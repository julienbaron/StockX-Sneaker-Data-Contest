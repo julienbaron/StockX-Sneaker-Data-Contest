{
 "cells": [
  {
   "cell_type": "markdown",
   "metadata": {},
   "source": [
    "# StockX-Sneaker-Data-Contest"
   ]
  },
  {
   "cell_type": "markdown",
   "metadata": {},
   "source": [
    "## Context:"
   ]
  },
  {
   "cell_type": "markdown",
   "metadata": {},
   "source": [
    "Currently the dataset consists of the single file of sales provided by StockX. ~10000 shoe sales from 50 different models (Nike x Off-White and Yeezy).\n",
    "\n",
    "In the coming weeks more data will be added, including the estimated number of pairs released for each model and other information that might be useful for making predictions. Additionally, some of the data types will be modified to make numerical analysis easier."
   ]
  },
  {
   "cell_type": "markdown",
   "metadata": {},
   "source": [
    "## Tasks :\n",
    "- What shoes are most popular?\n",
    "- Which shoes have the best/worst profit margins?\n",
    "- What factors affect profit margin?\n",
    "- Is it possible to predict the sale price of a shoe at a given time? (i.e. when should I sell?)"
   ]
  },
  {
   "cell_type": "code",
   "execution_count": 1,
   "metadata": {
    "scrolled": false
   },
   "outputs": [],
   "source": [
    "#data analysis and wrangling\n",
    "import pandas as pd\n",
    "import numpy as np\n",
    "import scipy.stats as ss\n",
    "from collections import Counter\n",
    "import math \n",
    "\n",
    "#visualization\n",
    "import matplotlib.pyplot as plt\n",
    "import seaborn as sns"
   ]
  },
  {
   "cell_type": "markdown",
   "metadata": {},
   "source": [
    "##  Acquire data"
   ]
  },
  {
   "cell_type": "markdown",
   "metadata": {},
   "source": [
    "Thanks to the pandas library, we load in memory our data set in the form of a table called Dataframe.Then we can make a copy of this data set for our different treatments. This arrangement will allow us to simplify processing on a large number of data."
   ]
  },
  {
   "cell_type": "code",
   "execution_count": 2,
   "metadata": {},
   "outputs": [],
   "source": [
    "original_df = pd.read_csv(r\".\\StockX-Data-Contest-2019-3.csv\")\n",
    "df = original_df.copy()"
   ]
  },
  {
   "cell_type": "markdown",
   "metadata": {},
   "source": [
    "## Preliminary analysis "
   ]
  },
  {
   "cell_type": "markdown",
   "metadata": {},
   "source": [
    "In this section we explore our dataset in search of answers and propose hypotheses. "
   ]
  },
  {
   "cell_type": "markdown",
   "metadata": {},
   "source": [
    "#### Which features are available in the dataset?"
   ]
  },
  {
   "cell_type": "markdown",
   "metadata": {},
   "source": [
    "First, we can look at the different types of data that compose our dataset. This first approach is important because it gives us an global overview.  The command ```df.columns.values``` gives us the names of the different columns of our data frame."
   ]
  },
  {
   "cell_type": "code",
   "execution_count": 3,
   "metadata": {
    "scrolled": true
   },
   "outputs": [
    {
     "name": "stdout",
     "output_type": "stream",
     "text": [
      "['Order Date' 'Brand' 'Sneaker Name' 'Sale Price' 'Retail Price'\n",
      " 'Release Date' 'Shoe Size' 'Buyer Region']\n"
     ]
    }
   ],
   "source": [
    "print(df.columns.values)"
   ]
  },
  {
   "cell_type": "markdown",
   "metadata": {},
   "source": [
    "We can differentiate two main types of data: categorical and numerical. \n",
    "\n",
    "**Numerical** data is essentially the quantitative data obtained from a variable, and the value has a sense of size / magnitude.This set in subtypes: Continuous (Sale Price, Retail Price), Discrete (Shoe Size).\n",
    "\n",
    "**Categorical** data are values for a qualitative variable, often a number, word or symbol. They highlight the fact that the variable in the case under consideration belongs to one of the many choices available. This set in subtypes: categorical (Brand, Sneaker Name, Buyer Region), interval (Order Date, Release Date)."
   ]
  },
  {
   "cell_type": "code",
   "execution_count": 4,
   "metadata": {
    "scrolled": false
   },
   "outputs": [
    {
     "data": {
      "text/html": [
       "<div>\n",
       "<style scoped>\n",
       "    .dataframe tbody tr th:only-of-type {\n",
       "        vertical-align: middle;\n",
       "    }\n",
       "\n",
       "    .dataframe tbody tr th {\n",
       "        vertical-align: top;\n",
       "    }\n",
       "\n",
       "    .dataframe thead th {\n",
       "        text-align: right;\n",
       "    }\n",
       "</style>\n",
       "<table border=\"1\" class=\"dataframe\">\n",
       "  <thead>\n",
       "    <tr style=\"text-align: right;\">\n",
       "      <th></th>\n",
       "      <th>Order Date</th>\n",
       "      <th>Brand</th>\n",
       "      <th>Sneaker Name</th>\n",
       "      <th>Sale Price</th>\n",
       "      <th>Retail Price</th>\n",
       "      <th>Release Date</th>\n",
       "      <th>Shoe Size</th>\n",
       "      <th>Buyer Region</th>\n",
       "    </tr>\n",
       "  </thead>\n",
       "  <tbody>\n",
       "    <tr>\n",
       "      <th>0</th>\n",
       "      <td>9/1/17</td>\n",
       "      <td>Yeezy</td>\n",
       "      <td>Adidas-Yeezy-Boost-350-Low-V2-Beluga</td>\n",
       "      <td>$1,097</td>\n",
       "      <td>$220</td>\n",
       "      <td>9/24/16</td>\n",
       "      <td>11.0</td>\n",
       "      <td>California</td>\n",
       "    </tr>\n",
       "    <tr>\n",
       "      <th>1</th>\n",
       "      <td>9/1/17</td>\n",
       "      <td>Yeezy</td>\n",
       "      <td>Adidas-Yeezy-Boost-350-V2-Core-Black-Copper</td>\n",
       "      <td>$685</td>\n",
       "      <td>$220</td>\n",
       "      <td>11/23/16</td>\n",
       "      <td>11.0</td>\n",
       "      <td>California</td>\n",
       "    </tr>\n",
       "    <tr>\n",
       "      <th>2</th>\n",
       "      <td>9/1/17</td>\n",
       "      <td>Yeezy</td>\n",
       "      <td>Adidas-Yeezy-Boost-350-V2-Core-Black-Green</td>\n",
       "      <td>$690</td>\n",
       "      <td>$220</td>\n",
       "      <td>11/23/16</td>\n",
       "      <td>11.0</td>\n",
       "      <td>California</td>\n",
       "    </tr>\n",
       "    <tr>\n",
       "      <th>3</th>\n",
       "      <td>9/1/17</td>\n",
       "      <td>Yeezy</td>\n",
       "      <td>Adidas-Yeezy-Boost-350-V2-Core-Black-Red</td>\n",
       "      <td>$1,075</td>\n",
       "      <td>$220</td>\n",
       "      <td>11/23/16</td>\n",
       "      <td>11.5</td>\n",
       "      <td>Kentucky</td>\n",
       "    </tr>\n",
       "    <tr>\n",
       "      <th>4</th>\n",
       "      <td>9/1/17</td>\n",
       "      <td>Yeezy</td>\n",
       "      <td>Adidas-Yeezy-Boost-350-V2-Core-Black-Red-2017</td>\n",
       "      <td>$828</td>\n",
       "      <td>$220</td>\n",
       "      <td>2/11/17</td>\n",
       "      <td>11.0</td>\n",
       "      <td>Rhode Island</td>\n",
       "    </tr>\n",
       "  </tbody>\n",
       "</table>\n",
       "</div>"
      ],
      "text/plain": [
       "  Order Date   Brand                                   Sneaker Name  \\\n",
       "0     9/1/17   Yeezy           Adidas-Yeezy-Boost-350-Low-V2-Beluga   \n",
       "1     9/1/17   Yeezy    Adidas-Yeezy-Boost-350-V2-Core-Black-Copper   \n",
       "2     9/1/17   Yeezy     Adidas-Yeezy-Boost-350-V2-Core-Black-Green   \n",
       "3     9/1/17   Yeezy       Adidas-Yeezy-Boost-350-V2-Core-Black-Red   \n",
       "4     9/1/17   Yeezy  Adidas-Yeezy-Boost-350-V2-Core-Black-Red-2017   \n",
       "\n",
       "  Sale Price Retail Price Release Date  Shoe Size  Buyer Region  \n",
       "0     $1,097         $220      9/24/16       11.0    California  \n",
       "1       $685         $220     11/23/16       11.0    California  \n",
       "2       $690         $220     11/23/16       11.0    California  \n",
       "3     $1,075         $220     11/23/16       11.5      Kentucky  \n",
       "4       $828         $220      2/11/17       11.0  Rhode Island  "
      ]
     },
     "execution_count": 4,
     "metadata": {},
     "output_type": "execute_result"
    }
   ],
   "source": [
    "df.head()"
   ]
  },
  {
   "cell_type": "markdown",
   "metadata": {},
   "source": [
    "#### Do we have null or empty values "
   ]
  },
  {
   "cell_type": "markdown",
   "metadata": {},
   "source": [
    "We need to make sure that we don't have an empty value. To do this we can use the following command ```df.isnull().sum()```.  This returns the number of null values per category. Therefore we can see that we have no missing values. "
   ]
  },
  {
   "cell_type": "code",
   "execution_count": 5,
   "metadata": {
    "scrolled": true
   },
   "outputs": [
    {
     "data": {
      "text/plain": [
       "Order Date      0\n",
       "Brand           0\n",
       "Sneaker Name    0\n",
       "Sale Price      0\n",
       "Retail Price    0\n",
       "Release Date    0\n",
       "Shoe Size       0\n",
       "Buyer Region    0\n",
       "dtype: int64"
      ]
     },
     "execution_count": 5,
     "metadata": {},
     "output_type": "execute_result"
    }
   ],
   "source": [
    "df.isnull().sum()"
   ]
  },
  {
   "cell_type": "markdown",
   "metadata": {},
   "source": [
    "#### What types of data do we have ?"
   ]
  },
  {
   "cell_type": "markdown",
   "metadata": {},
   "source": [
    "To give us an idea of the different types of data we have. We can use the df.info() command. This one reveals us that some data must be modified to be processed by machine learning algorithms. Indeed, the columns Sale Price and Retail Price must be converted into float as well as Order Date and Release Date into datetime"
   ]
  },
  {
   "cell_type": "code",
   "execution_count": 6,
   "metadata": {
    "scrolled": false
   },
   "outputs": [
    {
     "name": "stdout",
     "output_type": "stream",
     "text": [
      "<class 'pandas.core.frame.DataFrame'>\n",
      "RangeIndex: 99956 entries, 0 to 99955\n",
      "Data columns (total 8 columns):\n",
      " #   Column        Non-Null Count  Dtype  \n",
      "---  ------        --------------  -----  \n",
      " 0   Order Date    99956 non-null  object \n",
      " 1   Brand         99956 non-null  object \n",
      " 2   Sneaker Name  99956 non-null  object \n",
      " 3   Sale Price    99956 non-null  object \n",
      " 4   Retail Price  99956 non-null  object \n",
      " 5   Release Date  99956 non-null  object \n",
      " 6   Shoe Size     99956 non-null  float64\n",
      " 7   Buyer Region  99956 non-null  object \n",
      "dtypes: float64(1), object(7)\n",
      "memory usage: 6.1+ MB\n"
     ]
    }
   ],
   "source": [
    "df.info()"
   ]
  },
  {
   "cell_type": "markdown",
   "metadata": {},
   "source": [
    "In a first time we will process the numerical data. To do this, we need to remove dollar sign at the begin of each row and cast into float "
   ]
  },
  {
   "cell_type": "code",
   "execution_count": 7,
   "metadata": {},
   "outputs": [],
   "source": [
    "df['Sale Price'] = df['Sale Price'].map(lambda x: x[1:].replace(',', '')).astype(float)\n",
    "df['Retail Price'] = df['Retail Price'].map(lambda x: x[1:].replace(',', '')).astype(float)"
   ]
  },
  {
   "cell_type": "markdown",
   "metadata": {},
   "source": [
    "Now we can make a cast on the categorical data as Order or Release Date. For this purpose, we can call the method ```pd.to_datetime()```. "
   ]
  },
  {
   "cell_type": "code",
   "execution_count": 8,
   "metadata": {},
   "outputs": [],
   "source": [
    "df['Order Date'] = pd.to_datetime(df['Order Date'])\n",
    "df['Release Date'] = pd.to_datetime(df['Release Date'])"
   ]
  },
  {
   "cell_type": "markdown",
   "metadata": {},
   "source": [
    "#### What kind of relationship do we have between numerical data ?"
   ]
  },
  {
   "cell_type": "markdown",
   "metadata": {},
   "source": [
    "To answer this question we can display the matrix of correlation. This figure give us a graphical point of view on the variantion of data. "
   ]
  },
  {
   "cell_type": "code",
   "execution_count": 37,
   "metadata": {},
   "outputs": [
    {
     "data": {
      "text/plain": [
       "<AxesSubplot:>"
      ]
     },
     "execution_count": 37,
     "metadata": {},
     "output_type": "execute_result"
    },
    {
     "data": {
      "image/png": "[encoded data removed]",
      "text/plain": [
       "<Figure size 432x288 with 2 Axes>"
      ]
     },
     "metadata": {
      "needs_background": "light"
     },
     "output_type": "display_data"
    }
   ],
   "source": [
    "corr = df.corr()\n",
    "\n",
    "sns.heatmap(corr, xticklabels=corr.columns,\n",
    "    yticklabels=corr.columns)"
   ]
  },
  {
   "cell_type": "markdown",
   "metadata": {},
   "source": [
    "We can see that Sale Price and Retail Price have a very stong correlation each other. Therefore it could be intersting to merge this features. The result of this operation give us the Profit for each sale. "
   ]
  },
  {
   "cell_type": "code",
   "execution_count": 10,
   "metadata": {},
   "outputs": [],
   "source": [
    "df[\"Profit\"] = df['Sale Price'] - df['Retail Price']"
   ]
  },
  {
   "cell_type": "markdown",
   "metadata": {},
   "source": [
    "A other factor that we must take into account is the correlation between Retail Price and Shoe Size. In fact, as we can see below price evolves according this features."
   ]
  },
  {
   "cell_type": "code",
   "execution_count": 11,
   "metadata": {},
   "outputs": [
    {
     "data": {
      "text/html": [
       "<div>\n",
       "<style scoped>\n",
       "    .dataframe tbody tr th:only-of-type {\n",
       "        vertical-align: middle;\n",
       "    }\n",
       "\n",
       "    .dataframe tbody tr th {\n",
       "        vertical-align: top;\n",
       "    }\n",
       "\n",
       "    .dataframe thead th {\n",
       "        text-align: right;\n",
       "    }\n",
       "</style>\n",
       "<table border=\"1\" class=\"dataframe\">\n",
       "  <thead>\n",
       "    <tr style=\"text-align: right;\">\n",
       "      <th></th>\n",
       "      <th>Sale Price</th>\n",
       "    </tr>\n",
       "    <tr>\n",
       "      <th>Shoe Size</th>\n",
       "      <th></th>\n",
       "    </tr>\n",
       "  </thead>\n",
       "  <tbody>\n",
       "    <tr>\n",
       "      <th>17.0</th>\n",
       "      <td>1189.000000</td>\n",
       "    </tr>\n",
       "    <tr>\n",
       "      <th>16.0</th>\n",
       "      <td>751.721519</td>\n",
       "    </tr>\n",
       "    <tr>\n",
       "      <th>15.0</th>\n",
       "      <td>670.130769</td>\n",
       "    </tr>\n",
       "    <tr>\n",
       "      <th>3.5</th>\n",
       "      <td>503.750000</td>\n",
       "    </tr>\n",
       "    <tr>\n",
       "      <th>10.0</th>\n",
       "      <td>477.032813</td>\n",
       "    </tr>\n",
       "  </tbody>\n",
       "</table>\n",
       "</div>"
      ],
      "text/plain": [
       "            Sale Price\n",
       "Shoe Size             \n",
       "17.0       1189.000000\n",
       "16.0        751.721519\n",
       "15.0        670.130769\n",
       "3.5         503.750000\n",
       "10.0        477.032813"
      ]
     },
     "execution_count": 11,
     "metadata": {},
     "output_type": "execute_result"
    }
   ],
   "source": [
    "df[['Sale Price', 'Shoe Size']].groupby(['Shoe Size']).mean().sort_values(by='Sale Price', ascending = False).head(5)"
   ]
  },
  {
   "cell_type": "code",
   "execution_count": 12,
   "metadata": {},
   "outputs": [
    {
     "data": {
      "text/plain": [
       "<seaborn.axisgrid.PairGrid at 0x1f9e9156888>"
      ]
     },
     "execution_count": 12,
     "metadata": {},
     "output_type": "execute_result"
    },
    {
     "data": {
      "image/png": "[encoded data removed]",
      "text/plain": [
       "<Figure size 720x720 with 20 Axes>"
      ]
     },
     "metadata": {
      "needs_background": "light"
     },
     "output_type": "display_data"
    }
   ],
   "source": [
    "sns.pairplot(df[['Sale Price','Retail Price','Shoe Size','Profit']])"
   ]
  },
  {
   "cell_type": "markdown",
   "metadata": {},
   "source": [
    "#### What kind of relationship do we have between categorical data ?"
   ]
  },
  {
   "cell_type": "markdown",
   "metadata": {},
   "source": [
    "Now that we have studied the numerical correlations in our data, we can move on to our categorical data. In order to do this, i copy my actual dataset into a new one and i drop manualy my non-categorical columns."
   ]
  },
  {
   "cell_type": "code",
   "execution_count": 13,
   "metadata": {},
   "outputs": [],
   "source": [
    "df_categorical = df.copy()\n",
    "df_categorical = df_categorical.drop(columns=[\"Sale Price\", \"Retail Price\", \"Shoe Size\", \"Profit\"])"
   ]
  },
  {
   "cell_type": "markdown",
   "metadata": {},
   "source": [
    "To be able to process data non-numerical data we need to numerise value. Pour pouvoir traiter nos données non numérique nous devons passer par une étape de numérisation."
   ]
  },
  {
   "cell_type": "code",
   "execution_count": 14,
   "metadata": {},
   "outputs": [],
   "source": [
    "from sklearn.preprocessing import OrdinalEncoder\n",
    "\n",
    "ordinal_encoder = OrdinalEncoder()\n",
    "for x in df_categorical.columns.values:\n",
    "    df_categorical[x] = ordinal_encoder.fit_transform(df_categorical[[x]])"
   ]
  },
  {
   "cell_type": "markdown",
   "metadata": {},
   "source": [
    "This give us the following result."
   ]
  },
  {
   "cell_type": "code",
   "execution_count": 15,
   "metadata": {
    "scrolled": true
   },
   "outputs": [
    {
     "data": {
      "text/html": [
       "<div>\n",
       "<style scoped>\n",
       "    .dataframe tbody tr th:only-of-type {\n",
       "        vertical-align: middle;\n",
       "    }\n",
       "\n",
       "    .dataframe tbody tr th {\n",
       "        vertical-align: top;\n",
       "    }\n",
       "\n",
       "    .dataframe thead th {\n",
       "        text-align: right;\n",
       "    }\n",
       "</style>\n",
       "<table border=\"1\" class=\"dataframe\">\n",
       "  <thead>\n",
       "    <tr style=\"text-align: right;\">\n",
       "      <th></th>\n",
       "      <th>Order Date</th>\n",
       "      <th>Brand</th>\n",
       "      <th>Sneaker Name</th>\n",
       "      <th>Release Date</th>\n",
       "      <th>Buyer Region</th>\n",
       "    </tr>\n",
       "  </thead>\n",
       "  <tbody>\n",
       "    <tr>\n",
       "      <th>0</th>\n",
       "      <td>0.0</td>\n",
       "      <td>0.0</td>\n",
       "      <td>5.0</td>\n",
       "      <td>5.0</td>\n",
       "      <td>4.0</td>\n",
       "    </tr>\n",
       "    <tr>\n",
       "      <th>1</th>\n",
       "      <td>0.0</td>\n",
       "      <td>0.0</td>\n",
       "      <td>8.0</td>\n",
       "      <td>6.0</td>\n",
       "      <td>4.0</td>\n",
       "    </tr>\n",
       "    <tr>\n",
       "      <th>2</th>\n",
       "      <td>0.0</td>\n",
       "      <td>0.0</td>\n",
       "      <td>9.0</td>\n",
       "      <td>6.0</td>\n",
       "      <td>4.0</td>\n",
       "    </tr>\n",
       "    <tr>\n",
       "      <th>3</th>\n",
       "      <td>0.0</td>\n",
       "      <td>0.0</td>\n",
       "      <td>10.0</td>\n",
       "      <td>6.0</td>\n",
       "      <td>17.0</td>\n",
       "    </tr>\n",
       "    <tr>\n",
       "      <th>4</th>\n",
       "      <td>0.0</td>\n",
       "      <td>0.0</td>\n",
       "      <td>11.0</td>\n",
       "      <td>8.0</td>\n",
       "      <td>39.0</td>\n",
       "    </tr>\n",
       "  </tbody>\n",
       "</table>\n",
       "</div>"
      ],
      "text/plain": [
       "   Order Date  Brand  Sneaker Name  Release Date  Buyer Region\n",
       "0         0.0    0.0           5.0           5.0           4.0\n",
       "1         0.0    0.0           8.0           6.0           4.0\n",
       "2         0.0    0.0           9.0           6.0           4.0\n",
       "3         0.0    0.0          10.0           6.0          17.0\n",
       "4         0.0    0.0          11.0           8.0          39.0"
      ]
     },
     "execution_count": 15,
     "metadata": {},
     "output_type": "execute_result"
    }
   ],
   "source": [
    "df_categorical.head()"
   ]
  },
  {
   "cell_type": "markdown",
   "metadata": {},
   "source": [
    "Then we can implemente Cramér's V measurement.\"*In statistics, Cramér's V is a measure of association between two nominal variables, giving a value between 0 and +1. It is based on Pearson's chi-squared statistic and was published by Harald Cramér in 1946.*\"(Wikipedia) "
   ]
  },
  {
   "cell_type": "code",
   "execution_count": 16,
   "metadata": {},
   "outputs": [],
   "source": [
    "def cramers_v(x, y):\n",
    "    confusion_matrix = pd.crosstab(x,y)\n",
    "    chi2 = ss.chi2_contingency(confusion_matrix)[0]\n",
    "    n = confusion_matrix.sum().sum()\n",
    "    phi2 = chi2/n\n",
    "    r,k = confusion_matrix.shape\n",
    "    phi2corr = max(0, phi2 - ((k-1)*(r-1))/(n-1))    \n",
    "    rcorr = r - ((r-1)**2)/(n-1)\n",
    "    kcorr = k - ((k-1)**2)/(n-1)\n",
    "    return np.sqrt(phi2corr / min( (kcorr-1), (rcorr-1)))"
   ]
  },
  {
   "cell_type": "code",
   "execution_count": 17,
   "metadata": {},
   "outputs": [],
   "source": [
    "columns = df_categorical.columns\n",
    "corr_categorical = pd.DataFrame(index=columns, columns=columns)\n",
    "for i in range(0,len(columns)):\n",
    "    for j in range(i,len(columns)):\n",
    "        cell = cramers_v(df_categorical[columns[i]], df_categorical[columns[j]])\n",
    "        corr_categorical[columns[i]][columns[j]] = cell\n",
    "        corr_categorical[columns[j]][columns[i]] = cell"
   ]
  },
  {
   "cell_type": "markdown",
   "metadata": {},
   "source": [
    "With these results we can see relationships between the categorical data. Nevertheless, on a personal interest, I was hoping to see relationships with the Buyer Region column.  "
   ]
  },
  {
   "cell_type": "code",
   "execution_count": 18,
   "metadata": {
    "scrolled": true
   },
   "outputs": [
    {
     "data": {
      "text/html": [
       "<div>\n",
       "<style scoped>\n",
       "    .dataframe tbody tr th:only-of-type {\n",
       "        vertical-align: middle;\n",
       "    }\n",
       "\n",
       "    .dataframe tbody tr th {\n",
       "        vertical-align: top;\n",
       "    }\n",
       "\n",
       "    .dataframe thead th {\n",
       "        text-align: right;\n",
       "    }\n",
       "</style>\n",
       "<table border=\"1\" class=\"dataframe\">\n",
       "  <thead>\n",
       "    <tr style=\"text-align: right;\">\n",
       "      <th></th>\n",
       "      <th>Order Date</th>\n",
       "      <th>Brand</th>\n",
       "      <th>Sneaker Name</th>\n",
       "      <th>Release Date</th>\n",
       "      <th>Buyer Region</th>\n",
       "    </tr>\n",
       "  </thead>\n",
       "  <tbody>\n",
       "    <tr>\n",
       "      <th>Order Date</th>\n",
       "      <td>1.0</td>\n",
       "      <td>0.364982</td>\n",
       "      <td>0.268591</td>\n",
       "      <td>0.319404</td>\n",
       "      <td>0.043492</td>\n",
       "    </tr>\n",
       "    <tr>\n",
       "      <th>Brand</th>\n",
       "      <td>0.364982</td>\n",
       "      <td>0.999975</td>\n",
       "      <td>0.99976</td>\n",
       "      <td>0.999835</td>\n",
       "      <td>0.077983</td>\n",
       "    </tr>\n",
       "    <tr>\n",
       "      <th>Sneaker Name</th>\n",
       "      <td>0.268591</td>\n",
       "      <td>0.99976</td>\n",
       "      <td>1.0</td>\n",
       "      <td>0.999925</td>\n",
       "      <td>0.042972</td>\n",
       "    </tr>\n",
       "    <tr>\n",
       "      <th>Release Date</th>\n",
       "      <td>0.319404</td>\n",
       "      <td>0.999835</td>\n",
       "      <td>0.999925</td>\n",
       "      <td>1.0</td>\n",
       "      <td>0.050853</td>\n",
       "    </tr>\n",
       "    <tr>\n",
       "      <th>Buyer Region</th>\n",
       "      <td>0.043492</td>\n",
       "      <td>0.077983</td>\n",
       "      <td>0.042972</td>\n",
       "      <td>0.050853</td>\n",
       "      <td>1.0</td>\n",
       "    </tr>\n",
       "  </tbody>\n",
       "</table>\n",
       "</div>"
      ],
      "text/plain": [
       "             Order Date     Brand Sneaker Name Release Date Buyer Region\n",
       "Order Date          1.0  0.364982     0.268591     0.319404     0.043492\n",
       "Brand          0.364982  0.999975      0.99976     0.999835     0.077983\n",
       "Sneaker Name   0.268591   0.99976          1.0     0.999925     0.042972\n",
       "Release Date   0.319404  0.999835     0.999925          1.0     0.050853\n",
       "Buyer Region   0.043492  0.077983     0.042972     0.050853          1.0"
      ]
     },
     "execution_count": 18,
     "metadata": {},
     "output_type": "execute_result"
    }
   ],
   "source": [
    "corr_categorical.head()"
   ]
  },
  {
   "cell_type": "markdown",
   "metadata": {},
   "source": [
    "Thanks to cramers V we have a symmetric approach to the correlation between categorical data. Nevertheless, we lose a lot of data with this approach. To overcome this problem we can use an asymmetric approach with Thiel's U"
   ]
  },
  {
   "cell_type": "code",
   "execution_count": 19,
   "metadata": {},
   "outputs": [],
   "source": [
    "def conditional_entropy(x, y):\n",
    "    # entropy of x given y\n",
    "    y_counter = Counter(y)\n",
    "    xy_counter = Counter(list(zip(x,y)))\n",
    "    total_occurrences = sum(y_counter.values())\n",
    "    entropy = 0.0\n",
    "    for xy in xy_counter.keys():\n",
    "        p_xy = xy_counter[xy] / total_occurrences\n",
    "        p_y = y_counter[xy[1]] / total_occurrences\n",
    "        entropy += p_xy * math.log(p_y/p_xy)\n",
    "    return entropy\n",
    "\n",
    "def theils_u(x, y):\n",
    "    s_xy = conditional_entropy(x,y)\n",
    "    x_counter = Counter(x)\n",
    "    total_occurrences = sum(x_counter.values())\n",
    "    p_x = list(map(lambda n: n/total_occurrences, x_counter.values()))\n",
    "    s_x = ss.entropy(p_x)\n",
    "    if s_x == 0:\n",
    "        return 1\n",
    "    else:\n",
    "        return (s_x - s_xy) / s_x"
   ]
  },
  {
   "cell_type": "code",
   "execution_count": 20,
   "metadata": {},
   "outputs": [],
   "source": [
    "corr_categorical_theils_u = pd.DataFrame(index=columns, columns=columns)\n",
    "for i in range(0,len(columns)):\n",
    "    for j in range(i,len(columns)):\n",
    "        cell = theils_u(df_categorical[columns[i]], df_categorical[columns[j]])\n",
    "        corr_categorical_theils_u[columns[i]][columns[j]] = cell\n",
    "        corr_categorical_theils_u[columns[j]][columns[i]] = cell"
   ]
  },
  {
   "cell_type": "code",
   "execution_count": 21,
   "metadata": {},
   "outputs": [
    {
     "data": {
      "text/html": [
       "<div>\n",
       "<style scoped>\n",
       "    .dataframe tbody tr th:only-of-type {\n",
       "        vertical-align: middle;\n",
       "    }\n",
       "\n",
       "    .dataframe tbody tr th {\n",
       "        vertical-align: top;\n",
       "    }\n",
       "\n",
       "    .dataframe thead th {\n",
       "        text-align: right;\n",
       "    }\n",
       "</style>\n",
       "<table border=\"1\" class=\"dataframe\">\n",
       "  <thead>\n",
       "    <tr style=\"text-align: right;\">\n",
       "      <th></th>\n",
       "      <th>Order Date</th>\n",
       "      <th>Brand</th>\n",
       "      <th>Sneaker Name</th>\n",
       "      <th>Release Date</th>\n",
       "      <th>Buyer Region</th>\n",
       "    </tr>\n",
       "  </thead>\n",
       "  <tbody>\n",
       "    <tr>\n",
       "      <th>Order Date</th>\n",
       "      <td>1.0</td>\n",
       "      <td>0.011801</td>\n",
       "      <td>0.173943</td>\n",
       "      <td>0.170331</td>\n",
       "      <td>0.026777</td>\n",
       "    </tr>\n",
       "    <tr>\n",
       "      <th>Brand</th>\n",
       "      <td>0.011801</td>\n",
       "      <td>1.0</td>\n",
       "      <td>1.0</td>\n",
       "      <td>1.0</td>\n",
       "      <td>0.005729</td>\n",
       "    </tr>\n",
       "    <tr>\n",
       "      <th>Sneaker Name</th>\n",
       "      <td>0.173943</td>\n",
       "      <td>1.0</td>\n",
       "      <td>1.0</td>\n",
       "      <td>0.954307</td>\n",
       "      <td>0.016806</td>\n",
       "    </tr>\n",
       "    <tr>\n",
       "      <th>Release Date</th>\n",
       "      <td>0.170331</td>\n",
       "      <td>1.0</td>\n",
       "      <td>0.954307</td>\n",
       "      <td>1.0</td>\n",
       "      <td>0.015832</td>\n",
       "    </tr>\n",
       "    <tr>\n",
       "      <th>Buyer Region</th>\n",
       "      <td>0.026777</td>\n",
       "      <td>0.005729</td>\n",
       "      <td>0.016806</td>\n",
       "      <td>0.015832</td>\n",
       "      <td>1.0</td>\n",
       "    </tr>\n",
       "  </tbody>\n",
       "</table>\n",
       "</div>"
      ],
      "text/plain": [
       "             Order Date     Brand Sneaker Name Release Date Buyer Region\n",
       "Order Date          1.0  0.011801     0.173943     0.170331     0.026777\n",
       "Brand          0.011801       1.0          1.0          1.0     0.005729\n",
       "Sneaker Name   0.173943       1.0          1.0     0.954307     0.016806\n",
       "Release Date   0.170331       1.0     0.954307          1.0     0.015832\n",
       "Buyer Region   0.026777  0.005729     0.016806     0.015832          1.0"
      ]
     },
     "execution_count": 21,
     "metadata": {},
     "output_type": "execute_result"
    }
   ],
   "source": [
    "corr_categorical_theils_u.head()"
   ]
  },
  {
   "cell_type": "markdown",
   "metadata": {},
   "source": [
    "But it's intresting to see how much time the sneakers has been held before being sold by the reseller."
   ]
  },
  {
   "cell_type": "code",
   "execution_count": 22,
   "metadata": {
    "scrolled": true
   },
   "outputs": [],
   "source": [
    "df['Hold Time (days)'] = (df['Order Date'] - df['Release Date']).dt.days"
   ]
  },
  {
   "cell_type": "markdown",
   "metadata": {},
   "source": [
    "#### Combination of categorical and numerical values"
   ]
  },
  {
   "cell_type": "markdown",
   "metadata": {},
   "source": [
    "We have now explored all methods to visualize data of the same type. We can continue our exploration of corelation by mixing data types. To do this we can use the correlation ratio.  "
   ]
  },
  {
   "cell_type": "code",
   "execution_count": 23,
   "metadata": {},
   "outputs": [],
   "source": [
    "df_ordinal_encoder = OrdinalEncoder()\n",
    "for x in df_categorical.columns.values:\n",
    "    df[x] = ordinal_encoder.fit_transform(df[[x]])"
   ]
  },
  {
   "cell_type": "code",
   "execution_count": 25,
   "metadata": {},
   "outputs": [
    {
     "data": {
      "text/html": [
       "<div>\n",
       "<style scoped>\n",
       "    .dataframe tbody tr th:only-of-type {\n",
       "        vertical-align: middle;\n",
       "    }\n",
       "\n",
       "    .dataframe tbody tr th {\n",
       "        vertical-align: top;\n",
       "    }\n",
       "\n",
       "    .dataframe thead th {\n",
       "        text-align: right;\n",
       "    }\n",
       "</style>\n",
       "<table border=\"1\" class=\"dataframe\">\n",
       "  <thead>\n",
       "    <tr style=\"text-align: right;\">\n",
       "      <th></th>\n",
       "      <th>Order Date</th>\n",
       "      <th>Brand</th>\n",
       "      <th>Sneaker Name</th>\n",
       "      <th>Sale Price</th>\n",
       "      <th>Retail Price</th>\n",
       "      <th>Release Date</th>\n",
       "      <th>Shoe Size</th>\n",
       "      <th>Buyer Region</th>\n",
       "      <th>Profit</th>\n",
       "      <th>Hold Time (days)</th>\n",
       "    </tr>\n",
       "  </thead>\n",
       "  <tbody>\n",
       "    <tr>\n",
       "      <th>0</th>\n",
       "      <td>0.0</td>\n",
       "      <td>0.0</td>\n",
       "      <td>5.0</td>\n",
       "      <td>1097.0</td>\n",
       "      <td>220.0</td>\n",
       "      <td>5.0</td>\n",
       "      <td>11.0</td>\n",
       "      <td>4.0</td>\n",
       "      <td>877.0</td>\n",
       "      <td>342</td>\n",
       "    </tr>\n",
       "    <tr>\n",
       "      <th>1</th>\n",
       "      <td>0.0</td>\n",
       "      <td>0.0</td>\n",
       "      <td>8.0</td>\n",
       "      <td>685.0</td>\n",
       "      <td>220.0</td>\n",
       "      <td>6.0</td>\n",
       "      <td>11.0</td>\n",
       "      <td>4.0</td>\n",
       "      <td>465.0</td>\n",
       "      <td>282</td>\n",
       "    </tr>\n",
       "    <tr>\n",
       "      <th>2</th>\n",
       "      <td>0.0</td>\n",
       "      <td>0.0</td>\n",
       "      <td>9.0</td>\n",
       "      <td>690.0</td>\n",
       "      <td>220.0</td>\n",
       "      <td>6.0</td>\n",
       "      <td>11.0</td>\n",
       "      <td>4.0</td>\n",
       "      <td>470.0</td>\n",
       "      <td>282</td>\n",
       "    </tr>\n",
       "    <tr>\n",
       "      <th>3</th>\n",
       "      <td>0.0</td>\n",
       "      <td>0.0</td>\n",
       "      <td>10.0</td>\n",
       "      <td>1075.0</td>\n",
       "      <td>220.0</td>\n",
       "      <td>6.0</td>\n",
       "      <td>11.5</td>\n",
       "      <td>17.0</td>\n",
       "      <td>855.0</td>\n",
       "      <td>282</td>\n",
       "    </tr>\n",
       "    <tr>\n",
       "      <th>4</th>\n",
       "      <td>0.0</td>\n",
       "      <td>0.0</td>\n",
       "      <td>11.0</td>\n",
       "      <td>828.0</td>\n",
       "      <td>220.0</td>\n",
       "      <td>8.0</td>\n",
       "      <td>11.0</td>\n",
       "      <td>39.0</td>\n",
       "      <td>608.0</td>\n",
       "      <td>202</td>\n",
       "    </tr>\n",
       "  </tbody>\n",
       "</table>\n",
       "</div>"
      ],
      "text/plain": [
       "   Order Date  Brand  Sneaker Name  Sale Price  Retail Price  Release Date  \\\n",
       "0         0.0    0.0           5.0      1097.0         220.0           5.0   \n",
       "1         0.0    0.0           8.0       685.0         220.0           6.0   \n",
       "2         0.0    0.0           9.0       690.0         220.0           6.0   \n",
       "3         0.0    0.0          10.0      1075.0         220.0           6.0   \n",
       "4         0.0    0.0          11.0       828.0         220.0           8.0   \n",
       "\n",
       "   Shoe Size  Buyer Region  Profit  Hold Time (days)  \n",
       "0       11.0           4.0   877.0               342  \n",
       "1       11.0           4.0   465.0               282  \n",
       "2       11.0           4.0   470.0               282  \n",
       "3       11.5          17.0   855.0               282  \n",
       "4       11.0          39.0   608.0               202  "
      ]
     },
     "execution_count": 25,
     "metadata": {},
     "output_type": "execute_result"
    }
   ],
   "source": [
    "df.head()"
   ]
  },
  {
   "cell_type": "code",
   "execution_count": 26,
   "metadata": {},
   "outputs": [
    {
     "name": "stdout",
     "output_type": "stream",
     "text": [
      "<class 'pandas.core.frame.DataFrame'>\n",
      "RangeIndex: 99956 entries, 0 to 99955\n",
      "Data columns (total 10 columns):\n",
      " #   Column            Non-Null Count  Dtype  \n",
      "---  ------            --------------  -----  \n",
      " 0   Order Date        99956 non-null  float64\n",
      " 1   Brand             99956 non-null  float64\n",
      " 2   Sneaker Name      99956 non-null  float64\n",
      " 3   Sale Price        99956 non-null  float64\n",
      " 4   Retail Price      99956 non-null  float64\n",
      " 5   Release Date      99956 non-null  float64\n",
      " 6   Shoe Size         99956 non-null  float64\n",
      " 7   Buyer Region      99956 non-null  float64\n",
      " 8   Profit            99956 non-null  float64\n",
      " 9   Hold Time (days)  99956 non-null  int64  \n",
      "dtypes: float64(9), int64(1)\n",
      "memory usage: 7.6 MB\n"
     ]
    }
   ],
   "source": [
    "import matplotlib.dates as mpl_dates\n",
    "def correlation_ratio(categories, measurements):\n",
    "    fcat, _ = pd.factorize(categories)\n",
    "    cat_num = np.max(fcat)+1\n",
    "    y_avg_array = np.zeros(cat_num)\n",
    "    n_array = np.zeros(cat_num)\n",
    "    for i in range(0,cat_num):\n",
    "        cat_measures = measurements[np.argwhere(fcat == i).flatten()]\n",
    "        n_array[i] = len(cat_measures)\n",
    "        y_avg_array[i] = np.average(cat_measures)\n",
    "    y_total_avg = np.sum(np.multiply(y_avg_array,n_array))/np.sum(n_array)\n",
    "    numerator = np.sum(np.multiply(n_array,np.power(np.subtract(y_avg_array,y_total_avg),2)))\n",
    "    denominator = np.sum(np.power(np.subtract(measurements,y_total_avg),2))\n",
    "    if numerator == 0:\n",
    "        eta = 0.0\n",
    "    else:\n",
    "        eta = np.sqrt(numerator/denominator)\n",
    "    return eta\n",
    "\n",
    "columns = df.columns\n",
    "corr_ratio = pd.DataFrame(index=columns, columns=columns)\n",
    "df.info()"
   ]
  },
  {
   "cell_type": "code",
   "execution_count": 27,
   "metadata": {},
   "outputs": [],
   "source": [
    "for i in range(0,len(columns)):\n",
    "    for j in range(i,len(columns)):\n",
    "        cell = correlation_ratio(df[columns[i]], df[columns[j]])\n",
    "        corr_ratio[columns[i]][columns[j]] = cell\n",
    "        corr_ratio[columns[j]][columns[i]] = cell"
   ]
  },
  {
   "cell_type": "code",
   "execution_count": 28,
   "metadata": {
    "scrolled": true
   },
   "outputs": [
    {
     "data": {
      "text/html": [
       "<div>\n",
       "<style scoped>\n",
       "    .dataframe tbody tr th:only-of-type {\n",
       "        vertical-align: middle;\n",
       "    }\n",
       "\n",
       "    .dataframe tbody tr th {\n",
       "        vertical-align: top;\n",
       "    }\n",
       "\n",
       "    .dataframe thead th {\n",
       "        text-align: right;\n",
       "    }\n",
       "</style>\n",
       "<table border=\"1\" class=\"dataframe\">\n",
       "  <thead>\n",
       "    <tr style=\"text-align: right;\">\n",
       "      <th></th>\n",
       "      <th>Order Date</th>\n",
       "      <th>Brand</th>\n",
       "      <th>Sneaker Name</th>\n",
       "      <th>Sale Price</th>\n",
       "      <th>Retail Price</th>\n",
       "      <th>Release Date</th>\n",
       "      <th>Shoe Size</th>\n",
       "      <th>Buyer Region</th>\n",
       "      <th>Profit</th>\n",
       "      <th>Hold Time (days)</th>\n",
       "    </tr>\n",
       "  </thead>\n",
       "  <tbody>\n",
       "    <tr>\n",
       "      <th>Order Date</th>\n",
       "      <td>1.0</td>\n",
       "      <td>0.372174</td>\n",
       "      <td>0.572704</td>\n",
       "      <td>0.438723</td>\n",
       "      <td>0.375656</td>\n",
       "      <td>0.573764</td>\n",
       "      <td>0.119027</td>\n",
       "      <td>0.091487</td>\n",
       "      <td>0.428145</td>\n",
       "      <td>0.494005</td>\n",
       "    </tr>\n",
       "    <tr>\n",
       "      <th>Brand</th>\n",
       "      <td>0.372174</td>\n",
       "      <td>1.0</td>\n",
       "      <td>0.281938</td>\n",
       "      <td>0.545128</td>\n",
       "      <td>0.719996</td>\n",
       "      <td>0.266191</td>\n",
       "      <td>0.073214</td>\n",
       "      <td>0.037744</td>\n",
       "      <td>0.592513</td>\n",
       "      <td>0.332088</td>\n",
       "    </tr>\n",
       "    <tr>\n",
       "      <th>Sneaker Name</th>\n",
       "      <td>0.572704</td>\n",
       "      <td>0.281938</td>\n",
       "      <td>1.0</td>\n",
       "      <td>0.908574</td>\n",
       "      <td>1.0</td>\n",
       "      <td>1.0</td>\n",
       "      <td>0.138569</td>\n",
       "      <td>0.068859</td>\n",
       "      <td>0.915731</td>\n",
       "      <td>0.907801</td>\n",
       "    </tr>\n",
       "    <tr>\n",
       "      <th>Sale Price</th>\n",
       "      <td>0.438723</td>\n",
       "      <td>0.545128</td>\n",
       "      <td>0.908574</td>\n",
       "      <td>1.0</td>\n",
       "      <td>0.480821</td>\n",
       "      <td>0.334653</td>\n",
       "      <td>0.188853</td>\n",
       "      <td>0.133076</td>\n",
       "      <td>0.996547</td>\n",
       "      <td>0.38825</td>\n",
       "    </tr>\n",
       "    <tr>\n",
       "      <th>Retail Price</th>\n",
       "      <td>0.375656</td>\n",
       "      <td>0.719996</td>\n",
       "      <td>1.0</td>\n",
       "      <td>0.480821</td>\n",
       "      <td>1.0</td>\n",
       "      <td>0.34489</td>\n",
       "      <td>0.083219</td>\n",
       "      <td>0.043108</td>\n",
       "      <td>0.725362</td>\n",
       "      <td>0.321227</td>\n",
       "    </tr>\n",
       "  </tbody>\n",
       "</table>\n",
       "</div>"
      ],
      "text/plain": [
       "             Order Date     Brand Sneaker Name Sale Price Retail Price  \\\n",
       "Order Date          1.0  0.372174     0.572704   0.438723     0.375656   \n",
       "Brand          0.372174       1.0     0.281938   0.545128     0.719996   \n",
       "Sneaker Name   0.572704  0.281938          1.0   0.908574          1.0   \n",
       "Sale Price     0.438723  0.545128     0.908574        1.0     0.480821   \n",
       "Retail Price   0.375656  0.719996          1.0   0.480821          1.0   \n",
       "\n",
       "             Release Date Shoe Size Buyer Region    Profit Hold Time (days)  \n",
       "Order Date       0.573764  0.119027     0.091487  0.428145         0.494005  \n",
       "Brand            0.266191  0.073214     0.037744  0.592513         0.332088  \n",
       "Sneaker Name          1.0  0.138569     0.068859  0.915731         0.907801  \n",
       "Sale Price       0.334653  0.188853     0.133076  0.996547          0.38825  \n",
       "Retail Price      0.34489  0.083219     0.043108  0.725362         0.321227  "
      ]
     },
     "execution_count": 28,
     "metadata": {},
     "output_type": "execute_result"
    }
   ],
   "source": [
    "corr_ratio.head()"
   ]
  },
  {
   "cell_type": "code",
   "execution_count": 39,
   "metadata": {},
   "outputs": [
    {
     "data": {
      "text/html": [
       "<div>\n",
       "<style scoped>\n",
       "    .dataframe tbody tr th:only-of-type {\n",
       "        vertical-align: middle;\n",
       "    }\n",
       "\n",
       "    .dataframe tbody tr th {\n",
       "        vertical-align: top;\n",
       "    }\n",
       "\n",
       "    .dataframe thead th {\n",
       "        text-align: right;\n",
       "    }\n",
       "</style>\n",
       "<table border=\"1\" class=\"dataframe\">\n",
       "  <thead>\n",
       "    <tr style=\"text-align: right;\">\n",
       "      <th></th>\n",
       "      <th>Order Date</th>\n",
       "      <th>Brand</th>\n",
       "      <th>Sneaker Name</th>\n",
       "      <th>Sale Price</th>\n",
       "      <th>Retail Price</th>\n",
       "      <th>Release Date</th>\n",
       "      <th>Shoe Size</th>\n",
       "      <th>Buyer Region</th>\n",
       "      <th>Profit</th>\n",
       "      <th>Hold Time (days)</th>\n",
       "    </tr>\n",
       "  </thead>\n",
       "  <tbody>\n",
       "    <tr>\n",
       "      <th>Order Date</th>\n",
       "      <td>1.000000</td>\n",
       "      <td>0.372174</td>\n",
       "      <td>0.572704</td>\n",
       "      <td>0.438723</td>\n",
       "      <td>0.375656</td>\n",
       "      <td>0.573764</td>\n",
       "      <td>0.119027</td>\n",
       "      <td>0.091487</td>\n",
       "      <td>0.428145</td>\n",
       "      <td>0.494005</td>\n",
       "    </tr>\n",
       "    <tr>\n",
       "      <th>Brand</th>\n",
       "      <td>0.372174</td>\n",
       "      <td>1.000000</td>\n",
       "      <td>0.281938</td>\n",
       "      <td>0.545128</td>\n",
       "      <td>0.719996</td>\n",
       "      <td>0.266191</td>\n",
       "      <td>0.073214</td>\n",
       "      <td>0.037744</td>\n",
       "      <td>0.592513</td>\n",
       "      <td>0.332088</td>\n",
       "    </tr>\n",
       "    <tr>\n",
       "      <th>Sneaker Name</th>\n",
       "      <td>0.572704</td>\n",
       "      <td>0.281938</td>\n",
       "      <td>1.000000</td>\n",
       "      <td>0.908574</td>\n",
       "      <td>1.000000</td>\n",
       "      <td>1.000000</td>\n",
       "      <td>0.138569</td>\n",
       "      <td>0.068859</td>\n",
       "      <td>0.915731</td>\n",
       "      <td>0.907801</td>\n",
       "    </tr>\n",
       "    <tr>\n",
       "      <th>Sale Price</th>\n",
       "      <td>0.438723</td>\n",
       "      <td>0.545128</td>\n",
       "      <td>0.908574</td>\n",
       "      <td>1.000000</td>\n",
       "      <td>0.480821</td>\n",
       "      <td>0.334653</td>\n",
       "      <td>0.188853</td>\n",
       "      <td>0.133076</td>\n",
       "      <td>0.996547</td>\n",
       "      <td>0.388250</td>\n",
       "    </tr>\n",
       "    <tr>\n",
       "      <th>Retail Price</th>\n",
       "      <td>0.375656</td>\n",
       "      <td>0.719996</td>\n",
       "      <td>1.000000</td>\n",
       "      <td>0.480821</td>\n",
       "      <td>1.000000</td>\n",
       "      <td>0.344890</td>\n",
       "      <td>0.083219</td>\n",
       "      <td>0.043108</td>\n",
       "      <td>0.725362</td>\n",
       "      <td>0.321227</td>\n",
       "    </tr>\n",
       "    <tr>\n",
       "      <th>Release Date</th>\n",
       "      <td>0.573764</td>\n",
       "      <td>0.266191</td>\n",
       "      <td>1.000000</td>\n",
       "      <td>0.334653</td>\n",
       "      <td>0.344890</td>\n",
       "      <td>1.000000</td>\n",
       "      <td>0.134587</td>\n",
       "      <td>0.067232</td>\n",
       "      <td>0.868902</td>\n",
       "      <td>0.907690</td>\n",
       "    </tr>\n",
       "    <tr>\n",
       "      <th>Shoe Size</th>\n",
       "      <td>0.119027</td>\n",
       "      <td>0.073214</td>\n",
       "      <td>0.138569</td>\n",
       "      <td>0.188853</td>\n",
       "      <td>0.083219</td>\n",
       "      <td>0.134587</td>\n",
       "      <td>1.000000</td>\n",
       "      <td>0.022836</td>\n",
       "      <td>0.121918</td>\n",
       "      <td>0.068185</td>\n",
       "    </tr>\n",
       "    <tr>\n",
       "      <th>Buyer Region</th>\n",
       "      <td>0.091487</td>\n",
       "      <td>0.037744</td>\n",
       "      <td>0.068859</td>\n",
       "      <td>0.133076</td>\n",
       "      <td>0.043108</td>\n",
       "      <td>0.067232</td>\n",
       "      <td>0.022836</td>\n",
       "      <td>1.000000</td>\n",
       "      <td>0.093495</td>\n",
       "      <td>0.091736</td>\n",
       "    </tr>\n",
       "    <tr>\n",
       "      <th>Profit</th>\n",
       "      <td>0.428145</td>\n",
       "      <td>0.592513</td>\n",
       "      <td>0.915731</td>\n",
       "      <td>0.996547</td>\n",
       "      <td>0.725362</td>\n",
       "      <td>0.868902</td>\n",
       "      <td>0.121918</td>\n",
       "      <td>0.093495</td>\n",
       "      <td>1.000000</td>\n",
       "      <td>0.406745</td>\n",
       "    </tr>\n",
       "    <tr>\n",
       "      <th>Hold Time (days)</th>\n",
       "      <td>0.494005</td>\n",
       "      <td>0.332088</td>\n",
       "      <td>0.907801</td>\n",
       "      <td>0.388250</td>\n",
       "      <td>0.321227</td>\n",
       "      <td>0.907690</td>\n",
       "      <td>0.068185</td>\n",
       "      <td>0.091736</td>\n",
       "      <td>0.406745</td>\n",
       "      <td>1.000000</td>\n",
       "    </tr>\n",
       "  </tbody>\n",
       "</table>\n",
       "</div>"
      ],
      "text/plain": [
       "                  Order Date     Brand  Sneaker Name  Sale Price  \\\n",
       "Order Date          1.000000  0.372174      0.572704    0.438723   \n",
       "Brand               0.372174  1.000000      0.281938    0.545128   \n",
       "Sneaker Name        0.572704  0.281938      1.000000    0.908574   \n",
       "Sale Price          0.438723  0.545128      0.908574    1.000000   \n",
       "Retail Price        0.375656  0.719996      1.000000    0.480821   \n",
       "Release Date        0.573764  0.266191      1.000000    0.334653   \n",
       "Shoe Size           0.119027  0.073214      0.138569    0.188853   \n",
       "Buyer Region        0.091487  0.037744      0.068859    0.133076   \n",
       "Profit              0.428145  0.592513      0.915731    0.996547   \n",
       "Hold Time (days)    0.494005  0.332088      0.907801    0.388250   \n",
       "\n",
       "                  Retail Price  Release Date  Shoe Size  Buyer Region  \\\n",
       "Order Date            0.375656      0.573764   0.119027      0.091487   \n",
       "Brand                 0.719996      0.266191   0.073214      0.037744   \n",
       "Sneaker Name          1.000000      1.000000   0.138569      0.068859   \n",
       "Sale Price            0.480821      0.334653   0.188853      0.133076   \n",
       "Retail Price          1.000000      0.344890   0.083219      0.043108   \n",
       "Release Date          0.344890      1.000000   0.134587      0.067232   \n",
       "Shoe Size             0.083219      0.134587   1.000000      0.022836   \n",
       "Buyer Region          0.043108      0.067232   0.022836      1.000000   \n",
       "Profit                0.725362      0.868902   0.121918      0.093495   \n",
       "Hold Time (days)      0.321227      0.907690   0.068185      0.091736   \n",
       "\n",
       "                    Profit  Hold Time (days)  \n",
       "Order Date        0.428145          0.494005  \n",
       "Brand             0.592513          0.332088  \n",
       "Sneaker Name      0.915731          0.907801  \n",
       "Sale Price        0.996547          0.388250  \n",
       "Retail Price      0.725362          0.321227  \n",
       "Release Date      0.868902          0.907690  \n",
       "Shoe Size         0.121918          0.068185  \n",
       "Buyer Region      0.093495          0.091736  \n",
       "Profit            1.000000          0.406745  \n",
       "Hold Time (days)  0.406745          1.000000  "
      ]
     },
     "execution_count": 39,
     "metadata": {},
     "output_type": "execute_result"
    }
   ],
   "source": [
    "corr_ratio.astype('float')"
   ]
  },
  {
   "cell_type": "code",
   "execution_count": 38,
   "metadata": {},
   "outputs": [
    {
     "data": {
      "text/plain": [
       "<AxesSubplot:>"
      ]
     },
     "execution_count": 38,
     "metadata": {},
     "output_type": "execute_result"
    },
    {
     "data": {
      "image/png": "[encoded data removed]",
      "text/plain": [
       "<Figure size 432x288 with 2 Axes>"
      ]
     },
     "metadata": {
      "needs_background": "light"
     },
     "output_type": "display_data"
    }
   ],
   "source": [
    "sns.heatmap(corr_ratio.astype('float'), xticklabels=corr_ratio.columns,\n",
    "    yticklabels=corr_ratio.columns)"
   ]
  },
  {
   "cell_type": "code",
   "execution_count": 48,
   "metadata": {},
   "outputs": [
    {
     "data": {
      "text/plain": [
       "<seaborn.axisgrid.PairGrid at 0x1f9f7a7aa08>"
      ]
     },
     "execution_count": 48,
     "metadata": {},
     "output_type": "execute_result"
    },
    {
     "data": {
      "image/png": "[encoded data removed]",
      "text/plain": [
       "<Figure size 360x360 with 6 Axes>"
      ]
     },
     "metadata": {
      "needs_background": "light"
     },
     "output_type": "display_data"
    }
   ],
   "source": [
    "sns.pairplot(df[['Profit','Release Date']])"
   ]
  },
  {
   "cell_type": "code",
   "execution_count": null,
   "metadata": {},
   "outputs": [],
   "source": []
  }
 ],
 "metadata": {
  "kernelspec": {
   "display_name": "gputest",
   "language": "python",
   "name": "gputest"
  },
  "language_info": {
   "codemirror_mode": {
    "name": "ipython",
    "version": 3
   },
   "file_extension": ".py",
   "mimetype": "text/x-python",
   "name": "python",
   "nbconvert_exporter": "python",
   "pygments_lexer": "ipython3",
   "version": "3.7.11"
  }
 },
 "nbformat": 4,
 "nbformat_minor": 4
}
